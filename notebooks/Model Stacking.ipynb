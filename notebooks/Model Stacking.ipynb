{
 "cells": [
  {
   "cell_type": "markdown",
   "id": "501d0a51",
   "metadata": {},
   "source": [
    "# Stacking LightGBM and XGBoost Models"
   ]
  },
  {
   "cell_type": "code",
   "execution_count": 1,
   "id": "a04a4203",
   "metadata": {},
   "outputs": [],
   "source": [
    "#### GLOBAL VARIABLES ####\n",
    "FOLD_SEED = 3027\n",
    "NUM_FOLDS = 5\n",
    "EARLY_STOP = 200\n",
    "\n",
    "import numpy as np\n",
    "import pandas as pd\n",
    "import pickle\n",
    "import optuna\n",
    "import time\n",
    "import os\n",
    "            \n",
    "# Models\n",
    "from sklearn.base import clone\n",
    "from sklearn.model_selection import KFold\n",
    "from sklearn.metrics import mean_squared_error\n",
    "from category_encoders import OrdinalEncoder\n",
    "from lightgbm import LGBMRegressor\n",
    "from sklearn.linear_model import RidgeCV, LinearRegression, LassoCV\n",
    "from xgboost import XGBRegressor\n",
    "\n",
    "import warnings\n",
    "\n",
    "# Mute warnings\n",
    "warnings.filterwarnings('ignore')"
   ]
  },
  {
   "cell_type": "markdown",
   "id": "d7bc44a5",
   "metadata": {},
   "source": [
    "## 1. Retrieve Model Parameters\n",
    "\n",
    "We pick the top 2 trials from all of our saved optuna study files."
   ]
  },
  {
   "cell_type": "code",
   "execution_count": 2,
   "id": "e1a0dd9f",
   "metadata": {},
   "outputs": [
    {
     "data": {
      "text/html": [
       "<div>\n",
       "<style scoped>\n",
       "    .dataframe tbody tr th:only-of-type {\n",
       "        vertical-align: middle;\n",
       "    }\n",
       "\n",
       "    .dataframe tbody tr th {\n",
       "        vertical-align: top;\n",
       "    }\n",
       "\n",
       "    .dataframe thead th {\n",
       "        text-align: right;\n",
       "    }\n",
       "</style>\n",
       "<table border=\"1\" class=\"dataframe\">\n",
       "  <thead>\n",
       "    <tr style=\"text-align: right;\">\n",
       "      <th></th>\n",
       "      <th>number</th>\n",
       "      <th>value</th>\n",
       "      <th>datetime_start</th>\n",
       "      <th>datetime_complete</th>\n",
       "      <th>duration</th>\n",
       "      <th>params_cat_l2</th>\n",
       "      <th>params_cat_smooth</th>\n",
       "      <th>params_colsample_bytree</th>\n",
       "      <th>params_learning_rate</th>\n",
       "      <th>params_max_bin</th>\n",
       "      <th>params_max_depth</th>\n",
       "      <th>params_min_child_samples</th>\n",
       "      <th>params_min_child_weight</th>\n",
       "      <th>params_num_leaves</th>\n",
       "      <th>params_reg_alpha</th>\n",
       "      <th>params_reg_lambda</th>\n",
       "      <th>params_subsample</th>\n",
       "      <th>state</th>\n",
       "      <th>system_attrs_fixed_params</th>\n",
       "    </tr>\n",
       "  </thead>\n",
       "  <tbody>\n",
       "    <tr>\n",
       "      <th>71</th>\n",
       "      <td>71</td>\n",
       "      <td>0.717671</td>\n",
       "      <td>2021-08-30 17:05:34.734361</td>\n",
       "      <td>2021-08-30 17:07:02.682713</td>\n",
       "      <td>0 days 00:01:27.948352</td>\n",
       "      <td>82.577407</td>\n",
       "      <td>70.053774</td>\n",
       "      <td>0.147395</td>\n",
       "      <td>0.102204</td>\n",
       "      <td>1391</td>\n",
       "      <td>2</td>\n",
       "      <td>17</td>\n",
       "      <td>7.064160</td>\n",
       "      <td>14</td>\n",
       "      <td>39.917085</td>\n",
       "      <td>59.816029</td>\n",
       "      <td>0.434015</td>\n",
       "      <td>COMPLETE</td>\n",
       "      <td>NaN</td>\n",
       "    </tr>\n",
       "    <tr>\n",
       "      <th>31</th>\n",
       "      <td>31</td>\n",
       "      <td>0.717676</td>\n",
       "      <td>2021-08-30 16:12:50.587224</td>\n",
       "      <td>2021-08-30 16:14:21.101620</td>\n",
       "      <td>0 days 00:01:30.514396</td>\n",
       "      <td>83.776900</td>\n",
       "      <td>69.823151</td>\n",
       "      <td>0.157685</td>\n",
       "      <td>0.102001</td>\n",
       "      <td>1391</td>\n",
       "      <td>2</td>\n",
       "      <td>17</td>\n",
       "      <td>7.087311</td>\n",
       "      <td>17</td>\n",
       "      <td>40.086180</td>\n",
       "      <td>59.681072</td>\n",
       "      <td>0.433856</td>\n",
       "      <td>COMPLETE</td>\n",
       "      <td>NaN</td>\n",
       "    </tr>\n",
       "    <tr>\n",
       "      <th>176</th>\n",
       "      <td>176</td>\n",
       "      <td>0.717704</td>\n",
       "      <td>2021-08-28 04:54:55.670475</td>\n",
       "      <td>2021-08-28 04:55:48.832475</td>\n",
       "      <td>0 days 00:00:53.162000</td>\n",
       "      <td>81.000000</td>\n",
       "      <td>65.000000</td>\n",
       "      <td>0.127000</td>\n",
       "      <td>0.123000</td>\n",
       "      <td>1491</td>\n",
       "      <td>2</td>\n",
       "      <td>19</td>\n",
       "      <td>6.910000</td>\n",
       "      <td>16</td>\n",
       "      <td>39.300000</td>\n",
       "      <td>60.600000</td>\n",
       "      <td>0.460000</td>\n",
       "      <td>COMPLETE</td>\n",
       "      <td>NaN</td>\n",
       "    </tr>\n",
       "    <tr>\n",
       "      <th>160</th>\n",
       "      <td>160</td>\n",
       "      <td>0.717709</td>\n",
       "      <td>2021-08-28 04:39:06.082533</td>\n",
       "      <td>2021-08-28 04:40:03.181533</td>\n",
       "      <td>0 days 00:00:57.099000</td>\n",
       "      <td>81.000000</td>\n",
       "      <td>66.000000</td>\n",
       "      <td>0.128000</td>\n",
       "      <td>0.118000</td>\n",
       "      <td>1492</td>\n",
       "      <td>2</td>\n",
       "      <td>16</td>\n",
       "      <td>6.930000</td>\n",
       "      <td>18</td>\n",
       "      <td>39.800000</td>\n",
       "      <td>59.900000</td>\n",
       "      <td>0.420000</td>\n",
       "      <td>COMPLETE</td>\n",
       "      <td>NaN</td>\n",
       "    </tr>\n",
       "  </tbody>\n",
       "</table>\n",
       "</div>"
      ],
      "text/plain": [
       "     number     value             datetime_start          datetime_complete  \\\n",
       "71       71  0.717671 2021-08-30 17:05:34.734361 2021-08-30 17:07:02.682713   \n",
       "31       31  0.717676 2021-08-30 16:12:50.587224 2021-08-30 16:14:21.101620   \n",
       "176     176  0.717704 2021-08-28 04:54:55.670475 2021-08-28 04:55:48.832475   \n",
       "160     160  0.717709 2021-08-28 04:39:06.082533 2021-08-28 04:40:03.181533   \n",
       "\n",
       "                  duration  params_cat_l2  params_cat_smooth  \\\n",
       "71  0 days 00:01:27.948352      82.577407          70.053774   \n",
       "31  0 days 00:01:30.514396      83.776900          69.823151   \n",
       "176 0 days 00:00:53.162000      81.000000          65.000000   \n",
       "160 0 days 00:00:57.099000      81.000000          66.000000   \n",
       "\n",
       "     params_colsample_bytree  params_learning_rate  params_max_bin  \\\n",
       "71                  0.147395              0.102204            1391   \n",
       "31                  0.157685              0.102001            1391   \n",
       "176                 0.127000              0.123000            1491   \n",
       "160                 0.128000              0.118000            1492   \n",
       "\n",
       "     params_max_depth  params_min_child_samples  params_min_child_weight  \\\n",
       "71                  2                        17                 7.064160   \n",
       "31                  2                        17                 7.087311   \n",
       "176                 2                        19                 6.910000   \n",
       "160                 2                        16                 6.930000   \n",
       "\n",
       "     params_num_leaves  params_reg_alpha  params_reg_lambda  params_subsample  \\\n",
       "71                  14         39.917085          59.816029          0.434015   \n",
       "31                  17         40.086180          59.681072          0.433856   \n",
       "176                 16         39.300000          60.600000          0.460000   \n",
       "160                 18         39.800000          59.900000          0.420000   \n",
       "\n",
       "        state system_attrs_fixed_params  \n",
       "71   COMPLETE                       NaN  \n",
       "31   COMPLETE                       NaN  \n",
       "176  COMPLETE                       NaN  \n",
       "160  COMPLETE                       NaN  "
      ]
     },
     "execution_count": 2,
     "metadata": {},
     "output_type": "execute_result"
    }
   ],
   "source": [
    "temp = None\n",
    "for dirname, _, filenames in os.walk('../output'):\n",
    "    for filename in filenames:\n",
    "        if not filename.startswith('study_lgbm'):\n",
    "            continue\n",
    "        elif temp is None:\n",
    "            old_study = pickle.load(open(os.path.join(dirname, filename), \"rb\" ))\n",
    "            temp = old_study.trials_dataframe().sort_values('value').head(2)\n",
    "        else:\n",
    "            old_study = pickle.load(open(os.path.join(dirname, filename), \"rb\" ))\n",
    "            temp = pd.concat([temp, old_study.trials_dataframe().sort_values('value').head(2)])\n",
    "\n",
    "temp.sort_values('value', inplace = True)\n",
    "temp.head(5)"
   ]
  },
  {
   "cell_type": "markdown",
   "id": "5fcb91e5",
   "metadata": {},
   "source": [
    "## 2. Save Best Parameters\n",
    "\n",
    "Put the parameters into a form that we can use for training models."
   ]
  },
  {
   "cell_type": "code",
   "execution_count": 3,
   "id": "3ab91069",
   "metadata": {},
   "outputs": [],
   "source": [
    "cols = [col for col in temp.columns if col.startswith('params_')]\n",
    "temp = temp[cols]\n",
    "temp.columns = [col[7:] for col in cols]\n",
    "best_params = temp.to_dict(orient='records')"
   ]
  },
  {
   "cell_type": "markdown",
   "id": "8092e4a2",
   "metadata": {},
   "source": [
    "## 3. Load Training Data and Create K-Folds\n",
    "\n",
    "Load data, create K-fold sets for cross-validation and reproducibility"
   ]
  },
  {
   "cell_type": "code",
   "execution_count": 4,
   "id": "bead4596",
   "metadata": {},
   "outputs": [],
   "source": [
    "# Load the training data\n",
    "train = pd.read_csv(\"../data/train.csv\")\n",
    "test = pd.read_csv(\"../data/test.csv\")\n",
    "\n",
    "# Define Folds\n",
    "train[\"kfold\"] = -1\n",
    "kf = KFold(NUM_FOLDS, shuffle = True, random_state = FOLD_SEED) \n",
    "for fold, (train_idx, valid_idx) in enumerate(kf.split(train)):\n",
    "    train.loc[valid_idx,\"kfold\"] = fold\n",
    "\n",
    "# List of categorical/numerical columns\n",
    "object_cols = [col for col in train.columns if 'cat' in col]\n",
    "number_cols = [col for col in train.columns if 'cont' in col]\n",
    "columns = number_cols + object_cols"
   ]
  },
  {
   "cell_type": "markdown",
   "id": "1e72bb11",
   "metadata": {},
   "source": [
    "## 4. Train LightGBM Models and Generate Predictions\n",
    "\n",
    "Train models using the parameters from the previous steps"
   ]
  },
  {
   "cell_type": "code",
   "execution_count": 5,
   "id": "238600af",
   "metadata": {
    "scrolled": true
   },
   "outputs": [
    {
     "name": "stdout",
     "output_type": "stream",
     "text": [
      "Model 0  Fold 0 (RSME): 0.7155124607020212\n",
      "Model 0  Fold 1 (RSME): 0.7166094138916937\n",
      "Model 0  Fold 2 (RSME): 0.7176710803054804\n",
      "Model 0  Fold 3 (RSME): 0.7176466124220399\n",
      "Model 0  Fold 4 (RSME): 0.7167418920771789\n",
      "Model 0 Average (RMSE): 0.7168362918796829\n",
      "Model 0 Worst (RMSE): 0.7176710803054804\n",
      "Model 1  Fold 0 (RSME): 0.7155900761241745\n",
      "Model 1  Fold 1 (RSME): 0.716705924427379\n",
      "Model 1  Fold 2 (RSME): 0.7176759550246586\n",
      "Model 1  Fold 3 (RSME): 0.7176441816462166\n",
      "Model 1  Fold 4 (RSME): 0.7168428610074886\n",
      "Model 1 Average (RMSE): 0.7168917996459835\n",
      "Model 1 Worst (RMSE): 0.7176759550246586\n",
      "Model 2  Fold 0 (RSME): 0.7157391700610005\n",
      "Model 2  Fold 1 (RSME): 0.7166198137210454\n",
      "Model 2  Fold 2 (RSME): 0.717607610220349\n",
      "Model 2  Fold 3 (RSME): 0.7177041194698671\n",
      "Model 2  Fold 4 (RSME): 0.7166322975027858\n",
      "Model 2 Average (RMSE): 0.7168606021950096\n",
      "Model 2 Worst (RMSE): 0.7177041194698671\n",
      "Model 3  Fold 0 (RSME): 0.7156032588665565\n",
      "Model 3  Fold 1 (RSME): 0.7166588751967159\n",
      "Model 3  Fold 2 (RSME): 0.717562112502421\n",
      "Model 3  Fold 3 (RSME): 0.717708834260965\n",
      "Model 3  Fold 4 (RSME): 0.7166519277537958\n",
      "Model 3 Average (RMSE): 0.7168370017160908\n",
      "Model 3 Worst (RMSE): 0.717708834260965\n"
     ]
    }
   ],
   "source": [
    "out_of_fold = pd.DataFrame({\"LGBM\"+str(i): np.zeros((train.shape[0],)) for i in range(len(best_params))})\n",
    "out_of_fold['kfold'] = train.kfold\n",
    "predictions = pd.DataFrame({\"LGBM\"+str(i): np.zeros((test.shape[0],)) for i in range(len(best_params))})\n",
    "\n",
    "for i, params in enumerate(best_params):\n",
    "    X = train.copy()\n",
    "    scores = np.zeros(NUM_FOLDS)\n",
    "\n",
    "    for j in range(NUM_FOLDS):\n",
    "        X_train = X[X.kfold != j][columns].copy()\n",
    "        X_valid = X[X.kfold == j][columns].copy()\n",
    "        y_train = X[X.kfold != j]['target'].copy()\n",
    "        y_valid = X[X.kfold == j]['target'].copy()\n",
    "        X_test = test.set_index('id')[columns]\n",
    "\n",
    "        # Label Encode Data\n",
    "        encoder = OrdinalEncoder(cols = object_cols)\n",
    "        X_train = encoder.fit_transform(X_train)\n",
    "        X_valid = encoder.transform(X_valid)\n",
    "        X_test = encoder.transform(X_test)\n",
    "        \n",
    "        model = LGBMRegressor(**{**{'random_state': 0, \n",
    "                                    'n_jobs': -1,\n",
    "                                    'n_estimators': 20000}, **params})\n",
    "        model.fit(X_train, y_train,\n",
    "                  verbose=False,\n",
    "                  eval_set=[(X_valid, y_valid)],\n",
    "                  categorical_feature = object_cols,\n",
    "                  early_stopping_rounds = EARLY_STOP,\n",
    "                  )\n",
    "\n",
    "        predictions[\"LGBM\"+str(i)] += model.predict(X_test) / NUM_FOLDS \n",
    "        preds_valid = model.predict(X_valid)\n",
    "        scores[j] = mean_squared_error(y_valid, preds_valid, squared=False)\n",
    "        out_of_fold[\"LGBM\"+str(i)][X.kfold == j] = preds_valid\n",
    "        print(\"Model\", i ,\" Fold\",j ,\"(RSME):\", scores[j])\n",
    "\n",
    "    print(\"Model\", i, \"Average (RMSE):\", scores.mean())\n",
    "    print(\"Model\", i, \"Worst (RMSE):\", scores.max())"
   ]
  },
  {
   "cell_type": "markdown",
   "id": "f8d24ae9",
   "metadata": {},
   "source": [
    "## 5. Loading XGBoost Predictions\n",
    "\n",
    "In the case of the XGBRegressor, we run optuna and generate the predictions on Kaggle using their GPUs since this takes far too long to process locally with CPU.  "
   ]
  },
  {
   "cell_type": "code",
   "execution_count": 7,
   "id": "3cc46209",
   "metadata": {},
   "outputs": [
    {
     "name": "stdout",
     "output_type": "stream",
     "text": [
      "..\\output\\outoffold_xgboost_20210831-210554.p\n",
      "..\\output\\predictions_xgboost_20210831-210554.p\n"
     ]
    }
   ],
   "source": [
    "# Get the filenames\n",
    "import os\n",
    "# Load the XGBoost predictions\n",
    "for dirname, _, filenames in os.walk('..\\output'):\n",
    "    for filename in filenames:\n",
    "        if not filename.startswith('study_lgbm'):\n",
    "            print(os.path.join(dirname, filename))"
   ]
  },
  {
   "cell_type": "code",
   "execution_count": 8,
   "id": "2fc6b759",
   "metadata": {},
   "outputs": [],
   "source": [
    "# Out-of-Fold Validation\n",
    "temp = pickle.load(open(\"..\\output\\outoffold_xgboost_20210831-210554.p\", \"rb\" ))\n",
    "for col in temp.columns:\n",
    "    if 'XGBOOST' in col:\n",
    "        out_of_fold[col] = temp[col]\n",
    "        \n",
    "# Averaged Test Set Predictions\n",
    "temp = pickle.load(open(\"..\\output\\predictions_xgboost_20210831-210554.p\", \"rb\" ))\n",
    "for col in temp.columns:\n",
    "    predictions[col] = temp[col]"
   ]
  },
  {
   "cell_type": "markdown",
   "id": "0340f0c4",
   "metadata": {},
   "source": [
    "## 6. Training the Ensemble Model\n",
    "\n",
    "We create a function for easily testing various models"
   ]
  },
  {
   "cell_type": "code",
   "execution_count": 9,
   "id": "7d5c205e",
   "metadata": {},
   "outputs": [],
   "source": [
    "def ensemble(ensemble_model, submit = False, fit_params = {}):\n",
    "    preds = np.zeros((test.shape[0],))\n",
    "    scores = np.zeros(NUM_FOLDS)\n",
    "    \n",
    "    for j in range(NUM_FOLDS):\n",
    "        X_train = out_of_fold[X.kfold != j].drop('kfold', axis = 1)\n",
    "        X_valid = out_of_fold[X.kfold == j].drop('kfold', axis = 1)\n",
    "        y_train = train['target'][X.kfold != j].copy()\n",
    "        y_valid = train['target'][X.kfold == j].copy()\n",
    "        X_test = predictions.copy()\n",
    "\n",
    "        model = clone(ensemble_model)\n",
    "        model.fit(X_train, y_train)\n",
    "\n",
    "        preds += model.predict(X_test) / NUM_FOLDS \n",
    "        preds_valid = model.predict(X_valid)\n",
    "        scores[j] = mean_squared_error(y_valid, preds_valid, squared=False)\n",
    "        print(\"Fold\", j ,\"(RSME):\", scores[j])\n",
    "\n",
    "    print(\"Avg (RMSE):\", round(scores.mean(),6))\n",
    "    print(\"Max (RMSE):\", round(scores.max(),6))\n",
    "\n",
    "    if submit:\n",
    "        output = pd.DataFrame({'id': test.id,'target': preds})\n",
    "        timestr = time.strftime(\"%Y%m%d-%H%M%S\")\n",
    "        output.to_csv('../submissions/submission_ensemble_'+timestr+'.csv', index=False)"
   ]
  },
  {
   "cell_type": "markdown",
   "id": "af93c459",
   "metadata": {},
   "source": [
    "## 7. Testing Various Ensemble Models"
   ]
  },
  {
   "cell_type": "code",
   "execution_count": 10,
   "id": "d0f010d4",
   "metadata": {},
   "outputs": [
    {
     "name": "stdout",
     "output_type": "stream",
     "text": [
      "Fold 0 (RSME): 0.7152415363083845\n",
      "Fold 1 (RSME): 0.7162589814914677\n",
      "Fold 2 (RSME): 0.7172545900532766\n",
      "Fold 3 (RSME): 0.7176352205622318\n",
      "Fold 4 (RSME): 0.7164015327728596\n",
      "Avg (RMSE): 0.716558\n",
      "Max (RMSE): 0.717635\n"
     ]
    }
   ],
   "source": [
    "ensemble(ensemble_model = LinearRegression())"
   ]
  },
  {
   "cell_type": "code",
   "execution_count": 11,
   "id": "4f50a6e3",
   "metadata": {},
   "outputs": [
    {
     "name": "stdout",
     "output_type": "stream",
     "text": [
      "Fold 0 (RSME): 0.7152541888294607\n",
      "Fold 1 (RSME): 0.7162585176557689\n",
      "Fold 2 (RSME): 0.7172554943810194\n",
      "Fold 3 (RSME): 0.7176317085696127\n",
      "Fold 4 (RSME): 0.7164019401273162\n",
      "Avg (RMSE): 0.71656\n",
      "Max (RMSE): 0.717632\n"
     ]
    }
   ],
   "source": [
    "ensemble(ensemble_model = RidgeCV())"
   ]
  },
  {
   "cell_type": "code",
   "execution_count": 12,
   "id": "49aba74f",
   "metadata": {},
   "outputs": [
    {
     "name": "stdout",
     "output_type": "stream",
     "text": [
      "Fold 0 (RSME): 0.7152525796544902\n",
      "Fold 1 (RSME): 0.7162606568068188\n",
      "Fold 2 (RSME): 0.7172591914556631\n",
      "Fold 3 (RSME): 0.7176239113907984\n",
      "Fold 4 (RSME): 0.7164003341049899\n",
      "Avg (RMSE): 0.716559\n",
      "Max (RMSE): 0.717624\n"
     ]
    }
   ],
   "source": [
    "ensemble(ensemble_model = LassoCV())"
   ]
  },
  {
   "cell_type": "code",
   "execution_count": 13,
   "id": "e12f6ec0",
   "metadata": {},
   "outputs": [
    {
     "name": "stdout",
     "output_type": "stream",
     "text": [
      "Fold 0 (RSME): 0.715378130542827\n",
      "Fold 1 (RSME): 0.7163788369843227\n",
      "Fold 2 (RSME): 0.7175185787761765\n",
      "Fold 3 (RSME): 0.717782240526377\n",
      "Fold 4 (RSME): 0.7165580011243365\n",
      "Avg (RMSE): 0.716723\n",
      "Max (RMSE): 0.717782\n"
     ]
    }
   ],
   "source": [
    "ensemble(ensemble_model = LGBMRegressor())"
   ]
  },
  {
   "cell_type": "code",
   "execution_count": 14,
   "id": "0eabbcd6",
   "metadata": {},
   "outputs": [
    {
     "name": "stdout",
     "output_type": "stream",
     "text": [
      "Fold 0 (RSME): 0.7175716900497805\n",
      "Fold 1 (RSME): 0.7185605582480795\n",
      "Fold 2 (RSME): 0.7194318882334912\n",
      "Fold 3 (RSME): 0.7200217278524934\n",
      "Fold 4 (RSME): 0.7186498272618699\n",
      "Avg (RMSE): 0.718847\n",
      "Max (RMSE): 0.720022\n"
     ]
    }
   ],
   "source": [
    "ensemble(ensemble_model = XGBRegressor())"
   ]
  },
  {
   "cell_type": "code",
   "execution_count": 15,
   "id": "c15ef2c1",
   "metadata": {},
   "outputs": [
    {
     "name": "stdout",
     "output_type": "stream",
     "text": [
      "Fold 0 (RSME): 0.7152525796544902\n",
      "Fold 1 (RSME): 0.7162606568068188\n",
      "Fold 2 (RSME): 0.7172591914556631\n",
      "Fold 3 (RSME): 0.7176239113907984\n",
      "Fold 4 (RSME): 0.7164003341049899\n",
      "Avg (RMSE): 0.716559\n",
      "Max (RMSE): 0.717624\n"
     ]
    }
   ],
   "source": [
    "ensemble(ensemble_model = LassoCV())"
   ]
  }
 ],
 "metadata": {
  "kernelspec": {
   "display_name": "Python 3",
   "language": "python",
   "name": "python3"
  },
  "language_info": {
   "codemirror_mode": {
    "name": "ipython",
    "version": 3
   },
   "file_extension": ".py",
   "mimetype": "text/x-python",
   "name": "python",
   "nbconvert_exporter": "python",
   "pygments_lexer": "ipython3",
   "version": "3.8.10"
  }
 },
 "nbformat": 4,
 "nbformat_minor": 5
}
